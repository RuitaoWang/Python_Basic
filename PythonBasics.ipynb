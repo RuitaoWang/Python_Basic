{
 "cells": [
  {
   "cell_type": "markdown",
   "metadata": {},
   "source": [
    "# Python Basic"
   ]
  },
  {
   "cell_type": "markdown",
   "metadata": {},
   "source": [
    "The following topics are discussed with samples in this section.\n",
    "1. Numpy\n",
    "   * basic\n",
    "   * shape, copies\n",
    "2. Pandas\n",
    "3. Plot (matplotlib)"
   ]
  },
  {
   "cell_type": "code",
   "execution_count": 33,
   "metadata": {
    "collapsed": false
   },
   "outputs": [
    {
     "data": {
      "text/plain": [
       "'%.2f'"
      ]
     },
     "execution_count": 33,
     "metadata": {},
     "output_type": "execute_result"
    }
   ],
   "source": [
    "import numpy as np\n",
    "%precision 2"
   ]
  },
  {
   "cell_type": "markdown",
   "metadata": {},
   "source": [
    "## Numpy"
   ]
  },
  {
   "cell_type": "markdown",
   "metadata": {},
   "source": [
    "### Basic"
   ]
  },
  {
   "cell_type": "markdown",
   "metadata": {},
   "source": [
    "Main object of numpy is multidimensional array (ndarray) with features of axes(dimensions) and rank(axes). Following attributes:\n",
    "\n",
    "* **ndarray.ndim**: number of axes\n",
    "* **ndarray.shape**: dimensions\n",
    "* **ndarray.size**: number of the element in an array\n",
    "* **ndarray.dtype**: data type of the elements array\n",
    "* **ndarray.itemsize**: bytes of each element \n",
    "* **ndarray.data**: buffer"
   ]
  },
  {
   "cell_type": "markdown",
   "metadata": {},
   "source": [
    "**Creation** "
   ]
  },
  {
   "cell_type": "code",
   "execution_count": 17,
   "metadata": {
    "collapsed": false
   },
   "outputs": [],
   "source": [
    "## Creation with array \n",
    "a = np.array([[1,2,3],[4,5,6]], dtype = int)\n",
    "## Creation with zeros\n",
    "b = np.zeros((2,3,4),dtype=np.int16)\n",
    "## Creation with empty\n",
    "c = np.empty((2,3))\n",
    "## Creation with arange\n",
    "d = np.arange(0,2,0.3) # step size\n",
    "e = np.linspace(0,2,9) # number wanted"
   ]
  },
  {
   "cell_type": "markdown",
   "metadata": {},
   "source": [
    "** Operations **\n",
    "\n",
    "Arithmetic operations are applied elementwise.\n"
   ]
  },
  {
   "cell_type": "code",
   "execution_count": 35,
   "metadata": {
    "collapsed": false
   },
   "outputs": [
    {
     "name": "stdout",
     "output_type": "stream",
     "text": [
      "[[[ 0  1  2  3]\n",
      "  [ 4  5  6  7]\n",
      "  [ 8  9 10 11]]\n",
      "\n",
      " [[12 13 14 15]\n",
      "  [16 17 18 19]\n",
      "  [20 21 22 23]]]\n"
     ]
    },
    {
     "data": {
      "text/plain": [
       "array([[[ 0.  ,  1.  ,  1.41,  1.73],\n",
       "        [ 2.  ,  2.24,  2.45,  2.65],\n",
       "        [ 2.83,  3.  ,  3.16,  3.32]],\n",
       "\n",
       "       [[ 3.46,  3.61,  3.74,  3.87],\n",
       "        [ 4.  ,  4.12,  4.24,  4.36],\n",
       "        [ 4.47,  4.58,  4.69,  4.8 ]]])"
      ]
     },
     "execution_count": 35,
     "metadata": {},
     "output_type": "execute_result"
    }
   ],
   "source": [
    "a = np.arange(24).reshape(2,3,4)\n",
    "print(a)\n",
    "# dimensional calculation\n",
    "a.sum(axis=0)  #first dimension\n",
    "# universal function (ufunc)\n",
    "np.exp(a)\n",
    "np.sqrt(a)"
   ]
  },
  {
   "cell_type": "markdown",
   "metadata": {},
   "source": [
    "** Indexcing, Slicing and interating **"
   ]
  },
  {
   "cell_type": "code",
   "execution_count": 38,
   "metadata": {
    "collapsed": false
   },
   "outputs": [
    {
     "name": "stdout",
     "output_type": "stream",
     "text": [
      "[  0   1   8  27  64 125 216 343 512 729]\n",
      "[729 512 343 216 125  64  27   8   1   0]\n"
     ]
    }
   ],
   "source": [
    "#One dimensional case\n",
    "a = np.arange(10)**3\n",
    "print(a)\n",
    "# step:\n",
    "print(a[::-1])"
   ]
  },
  {
   "cell_type": "code",
   "execution_count": 45,
   "metadata": {
    "collapsed": false
   },
   "outputs": [
    {
     "name": "stdout",
     "output_type": "stream",
     "text": [
      "[[ 0  1  2  3]\n",
      " [ 2  3  4  5]\n",
      " [ 4  5  6  7]\n",
      " [ 6  7  8  9]\n",
      " [ 8  9 10 11]]\n"
     ]
    },
    {
     "data": {
      "text/plain": [
       "7"
      ]
     },
     "execution_count": 45,
     "metadata": {},
     "output_type": "execute_result"
    }
   ],
   "source": [
    "# Multi-dimensional case\n",
    "def f(x,y):\n",
    "    return 2*x+y\n",
    "b = np.fromfunction(f,(5,4),dtype=int) # generate a grid\n",
    "print(b)\n",
    "print(b[2,3]) # each number for a rank (5,4 in this case)"
   ]
  },
  {
   "cell_type": "code",
   "execution_count": null,
   "metadata": {
    "collapsed": true
   },
   "outputs": [],
   "source": [
    "### "
   ]
  }
 ],
 "metadata": {
  "kernelspec": {
   "display_name": "Python 3",
   "language": "python",
   "name": "python3"
  },
  "language_info": {
   "codemirror_mode": {
    "name": "ipython",
    "version": 3
   },
   "file_extension": ".py",
   "mimetype": "text/x-python",
   "name": "python",
   "nbconvert_exporter": "python",
   "pygments_lexer": "ipython3",
   "version": "3.5.2"
  }
 },
 "nbformat": 4,
 "nbformat_minor": 1
}
