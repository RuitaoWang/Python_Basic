{
 "cells": [
  {
   "cell_type": "markdown",
   "metadata": {},
   "source": [
    "# Time Series Basic (Pandas implementation)"
   ]
  },
  {
   "cell_type": "markdown",
   "metadata": {},
   "source": [
    "* Pandas Basic\n",
    "* Data from web with Pandas\n",
    "* Tick Data (High-Frequency Data)"
   ]
  },
  {
   "cell_type": "code",
   "execution_count": 1,
   "metadata": {
    "collapsed": true
   },
   "outputs": [],
   "source": [
    "import numpy as np\n",
    "import pandas as pd\n",
    "%matplotlib inline"
   ]
  },
  {
   "cell_type": "markdown",
   "metadata": {},
   "source": [
    "## Pandas Basic"
   ]
  },
  {
   "cell_type": "code",
   "execution_count": 2,
   "metadata": {
    "collapsed": false
   },
   "outputs": [],
   "source": [
    "# simple creation of pandas\n",
    "df = pd.DataFrame([1,2,3,4],columns=['numbers'],index=['1st','2nd','3rd','4th'])"
   ]
  },
  {
   "cell_type": "code",
   "execution_count": 3,
   "metadata": {
    "collapsed": false
   },
   "outputs": [
    {
     "name": "stdout",
     "output_type": "stream",
     "text": [
      "     numbers\n",
      "1st        1\n",
      "2nd        2\n",
      "3rd        3\n",
      "4th        4\n",
      "Index(['1st', '2nd', '3rd', '4th'], dtype='object')\n",
      "Index(['numbers'], dtype='object')\n"
     ]
    }
   ],
   "source": [
    "# basic feature\n",
    "print(df)\n",
    "print(df.index)\n",
    "print(df.columns)"
   ]
  },
  {
   "cell_type": "code",
   "execution_count": 4,
   "metadata": {
    "collapsed": false
   },
   "outputs": [
    {
     "name": "stdout",
     "output_type": "stream",
     "text": [
      "     numbers\n",
      "1st        1\n",
      "3rd        3\n",
      "     numbers\n",
      "1st        1\n",
      "2nd        2\n"
     ]
    }
   ],
   "source": [
    "# selection\n",
    "print(df.ix[['1st','3rd']])\n",
    "print(df.ix[0:2])"
   ]
  },
  {
   "cell_type": "code",
   "execution_count": 5,
   "metadata": {
    "collapsed": false
   },
   "outputs": [
    {
     "name": "stdout",
     "output_type": "stream",
     "text": [
      "numbers    10\n",
      "dtype: int64\n",
      "     numbers\n",
      "1st        1\n",
      "2nd        4\n",
      "3rd        9\n",
      "4th       16\n",
      "     numbers  column2\n",
      "1st        1      1.5\n",
      "2nd        2      2.5\n",
      "3rd        3      3.5\n",
      "4th        4      4.5\n",
      "     column2  numbers\n",
      "1st      1.5        1\n",
      "2nd      2.5        2\n",
      "3rd      3.5        3\n",
      "4th      4.5        4\n",
      "5th      5.5      100\n"
     ]
    }
   ],
   "source": [
    "# Data Matrix Manipulation\n",
    "# sum per column\n",
    "print(df.sum())\n",
    "# apply lamda function for each element\n",
    "print(df.apply(lambda x: x**2))\n",
    "# add one column\n",
    "df['column2'] = (1.5,2.5,3.5,4.5)\n",
    "print(df)\n",
    "# append \n",
    "df=df.append(pd.DataFrame({'numbers':100,'column2':5.5},index=['5th',]))\n",
    "print(df)"
   ]
  },
  {
   "cell_type": "code",
   "execution_count": 6,
   "metadata": {
    "collapsed": false
   },
   "outputs": [
    {
     "name": "stdout",
     "output_type": "stream",
     "text": [
      "numbers    22.0\n",
      "column2     3.5\n",
      "dtype: float64\n",
      "numbers    43.617657\n",
      "column2     1.581139\n",
      "dtype: float64\n"
     ]
    }
   ],
   "source": [
    "# column wise calculation\n",
    "print(df[['numbers','column2']].mean())\n",
    "print(df[['numbers','column2']].std())"
   ]
  },
  {
   "cell_type": "code",
   "execution_count": 7,
   "metadata": {
    "collapsed": false
   },
   "outputs": [
    {
     "name": "stdout",
     "output_type": "stream",
     "text": [
      "     column2  numbers  columns3\n",
      "1st      1.5      1.0       1.0\n",
      "2nd      2.5      2.0       4.0\n",
      "3rd      3.5      3.0       9.0\n",
      "4th      4.5      4.0      16.0\n",
      "5th      5.5    100.0       NaN\n",
      "6th      NaN      NaN      25.0\n",
      "     column2  numbers  columns3\n",
      "1st      1.5      1.0       1.0\n",
      "2nd      2.5      2.0       4.0\n",
      "3rd      3.5      3.0       9.0\n",
      "4th      4.5      4.0      16.0\n",
      "5th      5.5    100.0       NaN\n"
     ]
    },
    {
     "data": {
      "text/html": [
       "<div>\n",
       "<table border=\"1\" class=\"dataframe\">\n",
       "  <thead>\n",
       "    <tr style=\"text-align: right;\">\n",
       "      <th></th>\n",
       "      <th>column2</th>\n",
       "      <th>numbers</th>\n",
       "      <th>columns3</th>\n",
       "    </tr>\n",
       "  </thead>\n",
       "  <tbody>\n",
       "    <tr>\n",
       "      <th>1st</th>\n",
       "      <td>1.5</td>\n",
       "      <td>1.0</td>\n",
       "      <td>1.0</td>\n",
       "    </tr>\n",
       "    <tr>\n",
       "      <th>2nd</th>\n",
       "      <td>2.5</td>\n",
       "      <td>2.0</td>\n",
       "      <td>4.0</td>\n",
       "    </tr>\n",
       "    <tr>\n",
       "      <th>3rd</th>\n",
       "      <td>3.5</td>\n",
       "      <td>3.0</td>\n",
       "      <td>9.0</td>\n",
       "    </tr>\n",
       "    <tr>\n",
       "      <th>4th</th>\n",
       "      <td>4.5</td>\n",
       "      <td>4.0</td>\n",
       "      <td>16.0</td>\n",
       "    </tr>\n",
       "  </tbody>\n",
       "</table>\n",
       "</div>"
      ],
      "text/plain": [
       "     column2  numbers  columns3\n",
       "1st      1.5      1.0       1.0\n",
       "2nd      2.5      2.0       4.0\n",
       "3rd      3.5      3.0       9.0\n",
       "4th      4.5      4.0      16.0"
      ]
     },
     "execution_count": 7,
     "metadata": {},
     "output_type": "execute_result"
    }
   ],
   "source": [
    "# missing data handling\n",
    "df = df.join(pd.DataFrame([1,4,9,16,25],\n",
    "                         index=['1st','2nd','3rd','4th','6th'],\n",
    "                         columns = ['columns3']),\n",
    "            how='outer')\n",
    "print(df)\n",
    "print(df[df['numbers'].notnull()])\n",
    "df.dropna()"
   ]
  },
  {
   "cell_type": "code",
   "execution_count": 8,
   "metadata": {
    "collapsed": false
   },
   "outputs": [],
   "source": [
    "# Pandas DataFrame Creation\n",
    "a=np.random.standard_normal((9,4))\n",
    "df = pd.DataFrame(a)\n",
    "df.columns = [['No1', 'No2','No3','No4']]\n",
    "dates = pd.date_range('2016-1-1', periods=9, freq='M')\n",
    "df.index=dates\n",
    "\n",
    "# frequency parameter\n",
    "# Parameter  Description\n",
    "# B          business day\n",
    "# D          Calendar day\n",
    "# W          Week\n",
    "# M          Month end \n",
    "# BM         Business month end\n",
    "# MS         Month start\n",
    "# BMS        Business month start\n",
    "# Q          Quarter end\n",
    "# BQ         Business quarter end\n",
    "# QS         Quarter start\n",
    "# BQS        Business quarter start\n",
    "# A          Year end\n",
    "# BA         Business year end\n",
    "# AS         Year start\n",
    "# BAS        Business year start\n",
    "# H          Hourly\n",
    "# T          Minutely\n",
    "# S          Secondly\n",
    "# L          Milliseconds\n",
    "# U          Microseconds"
   ]
  },
  {
   "cell_type": "code",
   "execution_count": 9,
   "metadata": {
    "collapsed": false
   },
   "outputs": [
    {
     "name": "stdout",
     "output_type": "stream",
     "text": [
      "No1   -1.515329\n",
      "No2    0.423486\n",
      "No3    4.060267\n",
      "No4    8.043193\n",
      "dtype: float64\n",
      "No1   -0.168370\n",
      "No2    0.047054\n",
      "No3    0.451141\n",
      "No4    0.893688\n",
      "dtype: float64\n",
      "                 No1       No2       No3       No4\n",
      "2016-01-31 -1.345272  1.287500  0.350466  0.414138\n",
      "2016-02-29 -1.294821  1.250806 -0.192998  2.652541\n",
      "2016-03-31 -1.196436  0.177279 -0.722506  2.309845\n",
      "2016-04-30 -1.684648 -0.335616  0.462279  3.346217\n",
      "2016-05-31 -2.188782 -0.032340  1.854771  5.249407\n",
      "2016-06-30 -0.973003 -0.603602  3.243469  7.362276\n",
      "2016-07-31 -0.259236 -1.438208  4.025647  8.113551\n",
      "2016-08-31  0.311152  0.761032  4.049562  7.543448\n",
      "2016-09-30 -1.515329  0.423486  4.060267  8.043193\n"
     ]
    },
    {
     "data": {
      "text/html": [
       "<div>\n",
       "<table border=\"1\" class=\"dataframe\">\n",
       "  <thead>\n",
       "    <tr style=\"text-align: right;\">\n",
       "      <th></th>\n",
       "      <th>No1</th>\n",
       "      <th>No2</th>\n",
       "      <th>No3</th>\n",
       "      <th>No4</th>\n",
       "    </tr>\n",
       "  </thead>\n",
       "  <tbody>\n",
       "    <tr>\n",
       "      <th>count</th>\n",
       "      <td>9.000000</td>\n",
       "      <td>9.000000</td>\n",
       "      <td>9.000000</td>\n",
       "      <td>9.000000</td>\n",
       "    </tr>\n",
       "    <tr>\n",
       "      <th>mean</th>\n",
       "      <td>-0.168370</td>\n",
       "      <td>0.047054</td>\n",
       "      <td>0.451141</td>\n",
       "      <td>0.893688</td>\n",
       "    </tr>\n",
       "    <tr>\n",
       "      <th>std</th>\n",
       "      <td>0.981600</td>\n",
       "      <td>1.067712</td>\n",
       "      <td>0.770595</td>\n",
       "      <td>1.025359</td>\n",
       "    </tr>\n",
       "    <tr>\n",
       "      <th>min</th>\n",
       "      <td>-1.826481</td>\n",
       "      <td>-1.073527</td>\n",
       "      <td>-0.543464</td>\n",
       "      <td>-0.570102</td>\n",
       "    </tr>\n",
       "    <tr>\n",
       "      <th>25%</th>\n",
       "      <td>-0.504135</td>\n",
       "      <td>-0.571261</td>\n",
       "      <td>0.010705</td>\n",
       "      <td>0.414138</td>\n",
       "    </tr>\n",
       "    <tr>\n",
       "      <th>50%</th>\n",
       "      <td>0.050451</td>\n",
       "      <td>-0.337546</td>\n",
       "      <td>0.350466</td>\n",
       "      <td>0.751275</td>\n",
       "    </tr>\n",
       "    <tr>\n",
       "      <th>75%</th>\n",
       "      <td>0.570389</td>\n",
       "      <td>0.303275</td>\n",
       "      <td>1.184785</td>\n",
       "      <td>1.903190</td>\n",
       "    </tr>\n",
       "    <tr>\n",
       "      <th>max</th>\n",
       "      <td>1.215780</td>\n",
       "      <td>2.199240</td>\n",
       "      <td>1.392492</td>\n",
       "      <td>2.238403</td>\n",
       "    </tr>\n",
       "  </tbody>\n",
       "</table>\n",
       "</div>"
      ],
      "text/plain": [
       "            No1       No2       No3       No4\n",
       "count  9.000000  9.000000  9.000000  9.000000\n",
       "mean  -0.168370  0.047054  0.451141  0.893688\n",
       "std    0.981600  1.067712  0.770595  1.025359\n",
       "min   -1.826481 -1.073527 -0.543464 -0.570102\n",
       "25%   -0.504135 -0.571261  0.010705  0.414138\n",
       "50%    0.050451 -0.337546  0.350466  0.751275\n",
       "75%    0.570389  0.303275  1.184785  1.903190\n",
       "max    1.215780  2.199240  1.392492  2.238403"
      ]
     },
     "execution_count": 9,
     "metadata": {},
     "output_type": "execute_result"
    }
   ],
   "source": [
    "# DataFrame Calculation\n",
    "print(df.sum())\n",
    "print(df.mean())\n",
    "print(df.cumsum())\n",
    "df.describe()"
   ]
  },
  {
   "cell_type": "code",
   "execution_count": 10,
   "metadata": {
    "collapsed": false
   },
   "outputs": [
    {
     "data": {
      "text/plain": [
       "<matplotlib.axes._subplots.AxesSubplot at 0x105b22e48>"
      ]
     },
     "execution_count": 10,
     "metadata": {},
     "output_type": "execute_result"
    },
    {
     "data": {
      "image/png": "[encoded data removed]",
      "text/plain": [
       "<matplotlib.figure.Figure at 0x105b227f0>"
      ]
     },
     "metadata": {},
     "output_type": "display_data"
    }
   ],
   "source": [
    "# automatically seperate column data visualization\n",
    "df.cumsum().plot()"
   ]
  },
  {
   "cell_type": "code",
   "execution_count": 12,
   "metadata": {
    "collapsed": false
   },
   "outputs": [
    {
     "name": "stdout",
     "output_type": "stream",
     "text": [
      "              No1       No2       No3       No4\n",
      "Quarter                                        \n",
      "Q1       0.098385  1.287500  0.350466  2.238403\n",
      "Q2       1.215780  0.303275  1.392492  2.112868\n",
      "Q3       0.713766  2.199240  0.782178  0.751275\n",
      "              No1       No2       No3       No4\n",
      "Quarter                                        \n",
      "Q1      -0.398812  0.059093 -0.240835  0.769948\n",
      "Q2       0.074478 -0.260294  1.321992  1.684144\n",
      "Q3      -0.180775  0.342363  0.272266  0.226972\n",
      "Quarter\n",
      "Q1    3\n",
      "Q2    3\n",
      "Q3    3\n",
      "dtype: int64\n"
     ]
    }
   ],
   "source": [
    "# GroupBy Operations\n",
    "df['Quarter'] = ['Q1','Q1','Q1','Q2','Q2','Q2','Q3','Q3','Q3']\n",
    "groups = df.groupby('Quarter')\n",
    "print(groups.max())\n",
    "print(groups.mean())\n",
    "print(groups.size())"
   ]
  },
  {
   "cell_type": "markdown",
   "metadata": {},
   "source": [
    "## Data from web with Pandas"
   ]
  },
  {
   "cell_type": "code",
   "execution_count": null,
   "metadata": {
    "collapsed": true
   },
   "outputs": [],
   "source": []
  }
 ],
 "metadata": {
  "kernelspec": {
   "display_name": "Python 3",
   "language": "python",
   "name": "python3"
  },
  "language_info": {
   "codemirror_mode": {
    "name": "ipython",
    "version": 3
   },
   "file_extension": ".py",
   "mimetype": "text/x-python",
   "name": "python",
   "nbconvert_exporter": "python",
   "pygments_lexer": "ipython3",
   "version": "3.5.2"
  }
 },
 "nbformat": 4,
 "nbformat_minor": 1
}
