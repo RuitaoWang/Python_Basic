{
 "cells": [
  {
   "cell_type": "markdown",
   "metadata": {},
   "source": [
    "# Python Performance Improvement"
   ]
  },
  {
   "cell_type": "markdown",
   "metadata": {},
   "source": [
    "(Still In Process, static/dynamic compilation and random number gneration with GPU to be updated)\n",
    "\n",
    "Computational performance is of great importantce in quantitative finance. Here I explored the use of following practical performance libraries that can be used to speed Python code.\n",
    "* **Cython**, for merging Python with C paradigms of static compilation\n",
    "* **numexpr**, for fast numerical operations\n",
    "* **multiprocessing**, built-in module for local parallel processing\n",
    "* **Numba**, for dynamically compiling Python code for the CPU\n",
    "* **NumbaPro**, for dynamically compiling Python code for multicore CUPs and GPUs"
   ]
  },
  {
   "cell_type": "code",
   "execution_count": 1,
   "metadata": {
    "collapsed": false
   },
   "outputs": [],
   "source": [
    "import numpy as np\n",
    "import numexpr as ne\n",
    "import matplotlib.pyplot as plt\n",
    "%matplotlib inline"
   ]
  },
  {
   "cell_type": "code",
   "execution_count": 2,
   "metadata": {
    "collapsed": true
   },
   "outputs": [],
   "source": [
    "# For convenience, firstly, a performance evaluation function\n",
    "def perf_comp_data(func_list, data_list, rep=3, number=1):\n",
    "    ''' Function to compare the performance of different functions.\n",
    "    \n",
    "    Parameters\n",
    "    ==========\n",
    "    func_list : list\n",
    "        list with function names as strings\n",
    "    data_list : list\n",
    "        list with data set names as strings\n",
    "    rep : int\n",
    "        number of repetitions of the whole comparison\n",
    "    number : int\n",
    "        number of executions for every function\n",
    "    '''\n",
    "    from timeit import repeat\n",
    "    res_list = {}\n",
    "    for name in enumerate(func_list):\n",
    "        stmt = name[1] + '(' + data_list[name[0]] + ')'\n",
    "        setup = \"from __main__ import \" + name[1] + ', ' \\\n",
    "                                    + data_list[name[0]]\n",
    "        results = repeat(stmt=stmt, setup=setup,\n",
    "                         repeat=rep, number=number)\n",
    "        res_list[name[1]] = sum(results) / rep\n",
    "    res_sort = sorted(res_list.items(),\n",
    "                      key=lambda x: (x[1], x[0]))\n",
    "    for item in res_sort:\n",
    "        rel = item[1] / res_sort[0][1]\n",
    "        print ('function: ' + item[0] +\n",
    "              ', av. time sec: %9.5f, ' % item[1]\n",
    "            + 'relative: %6.1f' % rel)"
   ]
  },
  {
   "cell_type": "markdown",
   "metadata": {},
   "source": [
    "### Python Paradigms and Performance"
   ]
  },
  {
   "cell_type": "markdown",
   "metadata": {},
   "source": [
    "Here we test evaluate a relative complex function (that may cause some computational burden) on an array with 100,000 numbers."
   ]
  },
  {
   "cell_type": "code",
   "execution_count": 3,
   "metadata": {
    "collapsed": true
   },
   "outputs": [],
   "source": [
    "from math import *\n",
    "# the complex function we'd like to evaluate\n",
    "def f(x):\n",
    "    return abs(cos(x)) ** 0.5 + sin(2 + 3 * x)\n",
    "\n",
    "# 1. Simply loop over the whole data set\n",
    "def f1(a):\n",
    "    res = []\n",
    "    for x in a:\n",
    "        res.append(f(x))\n",
    "    return res\n",
    "\n",
    "# 2. Use iterator \n",
    "def f2(a):\n",
    "    return[f(x) for x in a]\n",
    "\n",
    "# 3. Use eval function\n",
    "def f3(a):\n",
    "    ex = 'abs(cos(x))**0.5+sin(2+3*x)'\n",
    "    return[eval(ex) for x in a]\n",
    "\n",
    "# 4. Numpy element wise calculation\n",
    "def f4(a):\n",
    "    return (np.abs(np.cos(a))**0.5+np.sin(2+3*a))\n",
    "\n",
    "# 5. numexpr library (specific for)\n",
    "def f5(a):\n",
    "    ex = 'abs(cos(a)) ** 0.5 + sin(2 + 3 * a)'\n",
    "    ne.set_num_threads(1)\n",
    "    return ne.evaluate(ex)\n",
    "\n",
    "def f6(a):\n",
    "    ex = 'abs(cos(a)) ** 0.5 + sin(2 + 3 * a)'\n",
    "    ne.set_num_threads(16)\n",
    "    return ne.evaluate(ex)"
   ]
  },
  {
   "cell_type": "markdown",
   "metadata": {},
   "source": [
    "Now, we use the performance function defined before to test the performance."
   ]
  },
  {
   "cell_type": "code",
   "execution_count": 4,
   "metadata": {
    "collapsed": false
   },
   "outputs": [
    {
     "name": "stdout",
     "output_type": "stream",
     "text": [
      "CPU times: user 5 µs, sys: 2 µs, total: 7 µs\n",
      "Wall time: 12.9 µs\n"
     ]
    }
   ],
   "source": [
    "a_np=np.arange(100000)\n",
    "a_py=range(100000)\n",
    "%time\n",
    "r1 = f1(a_py)\n",
    "r2 = f2(a_py)\n",
    "r3 = f3(a_py)\n",
    "r4 = f4(a_np)\n",
    "r5 = f5(a_np)\n",
    "r6 = f6(a_np)"
   ]
  },
  {
   "cell_type": "code",
   "execution_count": 5,
   "metadata": {
    "collapsed": false
   },
   "outputs": [
    {
     "name": "stdout",
     "output_type": "stream",
     "text": [
      "function: f6, av. time sec:   0.00290, relative:    1.0\n",
      "function: f5, av. time sec:   0.00537, relative:    1.9\n",
      "function: f4, av. time sec:   0.00555, relative:    1.9\n",
      "function: f2, av. time sec:   0.09154, relative:   31.6\n",
      "function: f1, av. time sec:   0.10194, relative:   35.2\n",
      "function: f3, av. time sec:   2.74447, relative:  947.7\n"
     ]
    }
   ],
   "source": [
    "a_py = range(100000)\n",
    "func_list=['f1','f2','f3','f4','f5','f6']\n",
    "data_list = ['a_py', 'a_py', 'a_py', 'a_np', 'a_np', 'a_np']\n",
    "perf_comp_data(func_list, data_list)"
   ]
  },
  {
   "cell_type": "markdown",
   "metadata": {},
   "source": [
    "It is shown that numexpr based on multi cores is the fatest. However, it should be noted that numpy also provide very reasonable computational performance."
   ]
  },
  {
   "cell_type": "markdown",
   "metadata": {},
   "source": [
    "### Memory Layout Performance"
   ]
  },
  {
   "cell_type": "markdown",
   "metadata": {},
   "source": [
    "Python allows us to choose from two different memory layouts when initialzing an ndarray."
   ]
  },
  {
   "cell_type": "code",
   "execution_count": 6,
   "metadata": {
    "collapsed": false
   },
   "outputs": [],
   "source": [
    "# C like storage (row wise)\n",
    "# In this case, the 1s, 2s, and 3s are stored next to each ohter\n",
    "c = np.array([\n",
    "        [1,1,1],\n",
    "        [2,2,2],\n",
    "        [3,3,3]\n",
    "    ], order = 'C')\n",
    "# Fortran like storage (column wise)\n",
    "# In this case, 1,2,3 are next to each other\n",
    "f = np.array([\n",
    "        [1,1,1],\n",
    "        [2,2,2],\n",
    "        [3,3,3]\n",
    "    ], order = 'F')"
   ]
  },
  {
   "cell_type": "code",
   "execution_count": 7,
   "metadata": {
    "collapsed": true
   },
   "outputs": [],
   "source": [
    "# Let's test the performance\n",
    "x = np.random.standard_normal((3,1500000))\n",
    "c = np.array(x,order = 'C')\n",
    "f = np.array(x,order = 'F')"
   ]
  },
  {
   "cell_type": "code",
   "execution_count": 8,
   "metadata": {
    "collapsed": false
   },
   "outputs": [
    {
     "name": "stdout",
     "output_type": "stream",
     "text": [
      "10 loops, best of 3: 16.7 ms per loop\n",
      "100 loops, best of 3: 5.04 ms per loop\n",
      "10 loops, best of 3: 97.7 ms per loop\n",
      "10 loops, best of 3: 43 ms per loop\n"
     ]
    }
   ],
   "source": [
    "%timeit c.sum(axis=0)\n",
    "%timeit c.sum(axis=1)\n",
    "%timeit c.std(axis=0)\n",
    "%timeit c.std(axis=1)"
   ]
  },
  {
   "cell_type": "code",
   "execution_count": 9,
   "metadata": {
    "collapsed": false
   },
   "outputs": [
    {
     "name": "stdout",
     "output_type": "stream",
     "text": [
      "10 loops, best of 3: 39.5 ms per loop\n",
      "10 loops, best of 3: 37.7 ms per loop\n",
      "10 loops, best of 3: 130 ms per loop\n",
      "10 loops, best of 3: 122 ms per loop\n"
     ]
    }
   ],
   "source": [
    "%timeit f.sum(axis=0)\n",
    "%timeit f.sum(axis=1)\n",
    "%timeit f.std(axis=0)\n",
    "%timeit f.std(axis=1)"
   ]
  },
  {
   "cell_type": "markdown",
   "metadata": {},
   "source": [
    "It is found that no matter we are dealing with column wise calculation or row wise calculation the C like storange is always faster than the Fortran like storage."
   ]
  },
  {
   "cell_type": "markdown",
   "metadata": {},
   "source": [
    "### Parallel Computing"
   ]
  },
  {
   "cell_type": "markdown",
   "metadata": {},
   "source": [
    "** Monte Carlo for option valuation uder GBM **"
   ]
  },
  {
   "cell_type": "code",
   "execution_count": 10,
   "metadata": {
    "collapsed": true
   },
   "outputs": [],
   "source": [
    "def bsm_mcs_valuation(strike):\n",
    "    ''' Dynamic Black-Scholes-Merton Monte Carlo estimator\n",
    "    for European calls.\n",
    "    \n",
    "    Parameters\n",
    "    ==========\n",
    "    strike : float\n",
    "        strike price of the option\n",
    "    \n",
    "    Results\n",
    "    =======\n",
    "    value : float\n",
    "        estimate for present value of call option\n",
    "    '''\n",
    "    S0 = 100.; T = 1.0; r = 0.05; vola = 0.2\n",
    "    M = 50; I = 20000\n",
    "    dt = T / M\n",
    "    rand = np.random.standard_normal((M + 1, I))\n",
    "    S = np.zeros((M + 1, I)); S[0] = S0\n",
    "    for t in range(1, M + 1):\n",
    "        S[t] = S[t-1] * np.exp((r - 0.5 * vola ** 2) * dt\n",
    "                               + vola * np.sqrt(dt) * rand[t])\n",
    "    value = (np.exp(-r * T)\n",
    "                     * np.sum(np.maximum(S[-1] - strike, 0)) / I)\n",
    "    return value"
   ]
  },
  {
   "cell_type": "markdown",
   "metadata": {},
   "source": [
    "** For Loop Calculation **\n",
    "\n",
    "Here, we take the valuation of 100 options with different strike prices as a benchmark case."
   ]
  },
  {
   "cell_type": "code",
   "execution_count": 11,
   "metadata": {
    "collapsed": false
   },
   "outputs": [
    {
     "name": "stdout",
     "output_type": "stream",
     "text": [
      "CPU times: user 6.25 s, sys: 585 ms, total: 6.83 s\n",
      "Wall time: 7.03 s\n"
     ]
    },
    {
     "data": {
      "text/plain": [
       "<matplotlib.text.Text at 0x106d70e10>"
      ]
     },
     "execution_count": 11,
     "metadata": {},
     "output_type": "execute_result"
    },
    {
     "data": {
      "image/png": "[encoded data removed]",
      "text/plain": [
       "<matplotlib.figure.Figure at 0x106d550f0>"
      ]
     },
     "metadata": {},
     "output_type": "display_data"
    }
   ],
   "source": [
    "def seq_value(n):\n",
    "    ''' Sequential option valuation.\n",
    "    \n",
    "    Parameters\n",
    "    ==========\n",
    "    n : int\n",
    "        number of option valuations/strikes\n",
    "    '''\n",
    "    strikes = np.linspace(80, 120, n)\n",
    "    option_values = []\n",
    "    for strike in strikes:\n",
    "        option_values.append(bsm_mcs_valuation(strike))\n",
    "    return strikes, option_values\n",
    "n = 100  # number of options to be valued\n",
    "%time strikes, option_values_seq = seq_value(n)\n",
    "plt.figure(figsize=(6, 3))\n",
    "plt.plot(strikes, option_values_seq, 'b')\n",
    "plt.plot(strikes, option_values_seq, 'r.')\n",
    "plt.grid(True)\n",
    "plt.xlabel('strikes')\n",
    "plt.ylabel('European call option values')\n",
    "\n",
    "# it takes 5.71 seconds in total to calculate all 100 option value."
   ]
  },
  {
   "cell_type": "code",
   "execution_count": 12,
   "metadata": {
    "collapsed": false
   },
   "outputs": [
    {
     "data": {
      "text/plain": [
       "array([[ 100.        ,  100.        ],\n",
       "       [  94.56397765,  116.86515007],\n",
       "       [  89.19410339,  104.19077699],\n",
       "       [  92.80618922,   96.936848  ],\n",
       "       [  94.97747909,   94.93402942],\n",
       "       [  83.06402403,   95.21534773]])"
      ]
     },
     "execution_count": 12,
     "metadata": {},
     "output_type": "execute_result"
    }
   ],
   "source": [
    "import multiprocessing as mp\n",
    "import math\n",
    "def simulate_geometric_brownian_motion(p):\n",
    "    M, I = p\n",
    "      # time steps, paths\n",
    "    S0 = 100; r = 0.05; sigma = 0.2; T = 1.0\n",
    "      # model parameters\n",
    "    dt = T / M\n",
    "    paths = np.zeros((M + 1, I))\n",
    "    paths[0] = S0\n",
    "    for t in range(1, M + 1):\n",
    "        paths[t] = paths[t - 1] * np.exp((r - 0.5 * sigma ** 2) * dt +\n",
    "                    sigma * math.sqrt(dt) * np.random.standard_normal(I))\n",
    "    return paths\n",
    "paths = simulate_geometric_brownian_motion((5, 2))\n",
    "paths"
   ]
  },
  {
   "cell_type": "code",
   "execution_count": 13,
   "metadata": {
    "collapsed": false
   },
   "outputs": [
    {
     "data": {
      "text/plain": [
       "<matplotlib.text.Text at 0x107428e10>"
      ]
     },
     "execution_count": 13,
     "metadata": {},
     "output_type": "execute_result"
    },
    {
     "data": {
      "image/png": "[encoded data removed]",
      "text/plain": [
       "<matplotlib.figure.Figure at 0x1073dc710>"
      ]
     },
     "metadata": {},
     "output_type": "display_data"
    }
   ],
   "source": [
    "I = 10000  # number of paths\n",
    "M = 50  # number of time steps\n",
    "t = 20  # number of tasks/simulations\n",
    "# running on server with 4 cores\n",
    "from time import time\n",
    "times = []\n",
    "for w in range(1, 5):\n",
    "    t0 = time()\n",
    "    pool = mp.Pool(processes=w)\n",
    "      # the pool of workers\n",
    "    result = pool.map(simulate_geometric_brownian_motion, t * [(M, I), ])\n",
    "      # the mapping of the function to the list of parameter tuples\n",
    "    times.append(time() - t0)\n",
    "plt.plot(range(1, 5), times)\n",
    "plt.plot(range(1, 5), times, 'ro')\n",
    "plt.grid(True)\n",
    "plt.xlabel('number of processes')\n",
    "plt.ylabel('time in seconds')\n",
    "plt.title('%d Monte Carlo simulations' % t)"
   ]
  },
  {
   "cell_type": "markdown",
   "metadata": {},
   "source": [
    "It is clear that as we use more processors, the calculation time would decrease."
   ]
  }
 ],
 "metadata": {
  "kernelspec": {
   "display_name": "Python 3",
   "language": "python",
   "name": "python3"
  },
  "language_info": {
   "codemirror_mode": {
    "name": "ipython",
    "version": 3
   },
   "file_extension": ".py",
   "mimetype": "text/x-python",
   "name": "python",
   "nbconvert_exporter": "python",
   "pygments_lexer": "ipython3",
   "version": "3.5.2"
  }
 },
 "nbformat": 4,
 "nbformat_minor": 1
}
